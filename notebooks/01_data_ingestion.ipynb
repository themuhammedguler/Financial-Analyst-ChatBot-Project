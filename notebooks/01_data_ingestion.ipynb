{
 "cells": [
  {
   "cell_type": "code",
   "execution_count": 7,
   "id": "f37b8df3",
   "metadata": {},
   "outputs": [],
   "source": [
    "# Gerekli kütüphaneleri import edelim\n",
    "import os\n",
    "from dotenv import load_dotenv\n",
    "from langchain_community.document_loaders import UnstructuredPDFLoader, DirectoryLoader\n",
    "from langchain.text_splitter import RecursiveCharacterTextSplitter\n",
    "from langchain_google_genai import GoogleGenerativeAIEmbeddings\n",
    "from langchain_community.vectorstores import FAISS\n",
    "from langchain_community.document_loaders import PyPDFium2Loader"
   ]
  },
  {
   "cell_type": "code",
   "execution_count": 8,
   "id": "e5a394c6",
   "metadata": {},
   "outputs": [
    {
     "data": {
      "text/plain": [
       "True"
      ]
     },
     "execution_count": 8,
     "metadata": {},
     "output_type": "execute_result"
    }
   ],
   "source": [
    "# .env dosyasındaki environment variable'ları yükle\n",
    "load_dotenv()"
   ]
  },
  {
   "cell_type": "code",
   "execution_count": 9,
   "id": "64660b46",
   "metadata": {},
   "outputs": [],
   "source": [
    "# Google API anahtarını kontrol et\n",
    "api_key = os.getenv(\"GOOGLE_API_KEY\")\n",
    "if not api_key:\n",
    "    raise ValueError(\"GOOGLE_API_KEY environment variable not set!\")"
   ]
  },
  {
   "cell_type": "code",
   "execution_count": 10,
   "id": "5b460f76",
   "metadata": {},
   "outputs": [],
   "source": [
    "# Veri klasörünün yolu\n",
    "DATA_PATH = '../data/' # PDF'lerin bulunduğu klasör\n",
    "\n",
    "# Vektör veritabanını kaydedeceğimiz yer\n",
    "DB_FAISS_PATH = 'vectorstore/db_faiss'"
   ]
  },
  {
   "cell_type": "code",
   "execution_count": 11,
   "id": "41fc0df9",
   "metadata": {},
   "outputs": [
    {
     "name": "stdout",
     "output_type": "stream",
     "text": [
      "Hızlı ve güvenli modda PDF'ler yükleniyor...\n"
     ]
    },
    {
     "name": "stderr",
     "output_type": "stream",
     "text": [
      "c:\\Users\\themu\\financial-analyst-chatbot\\venv\\Lib\\site-packages\\pypdfium2\\_helpers\\textpage.py:80: UserWarning: get_text_range() call with default params will be implicitly redirected to get_text_bounded()\n",
      "  warnings.warn(\"get_text_range() call with default params will be implicitly redirected to get_text_bounded()\")\n",
      "100%|██████████| 30/30 [00:47<00:00,  1.60s/it]"
     ]
    },
    {
     "name": "stdout",
     "output_type": "stream",
     "text": [
      "5787 adet doküman (sayfa) yüklendi.\n"
     ]
    },
    {
     "name": "stderr",
     "output_type": "stream",
     "text": [
      "\n"
     ]
    }
   ],
   "source": [
    "# 1. Adım: PDF'leri Yükleme\n",
    "# DirectoryLoader, belirtilen klasördeki tüm PDF'leri yükler\n",
    "# Bu, \"unstructured\" kütüphanesinin karmaşıklığını tamamen ortadan kaldırır.\n",
    "loader = DirectoryLoader(DATA_PATH,\n",
    "                         glob='**/*.pdf',\n",
    "                         loader_cls=PyPDFium2Loader,\n",
    "                         show_progress=True,\n",
    "                         use_multithreading=True) # Hız için bunu açık bırakabiliriz\n",
    "print(\"Hızlı ve güvenli modda PDF'ler yükleniyor...\")\n",
    "documents = loader.load()\n",
    "print(f\"{len(documents)} adet doküman (sayfa) yüklendi.\")\n"
   ]
  },
  {
   "cell_type": "code",
   "execution_count": 12,
   "id": "de15cafb",
   "metadata": {},
   "outputs": [
    {
     "name": "stdout",
     "output_type": "stream",
     "text": [
      "Dokümanlar 12403 adet parçaya (chunk) bölündü.\n"
     ]
    }
   ],
   "source": [
    "# 2. Adım: Dokümanları Parçalara Ayırma (Chunking)\n",
    "# RAG mimarisinde, uzun dokümanları daha küçük ve yönetilebilir parçalara böleriz.\n",
    "# Bu, arama doğruluğunu artırır.\n",
    "text_splitter = RecursiveCharacterTextSplitter(chunk_size=2000, chunk_overlap=100)\n",
    "docs = text_splitter.split_documents(documents)\n",
    "print(f\"Dokümanlar {len(docs)} adet parçaya (chunk) bölündü.\")"
   ]
  },
  {
   "cell_type": "code",
   "execution_count": 13,
   "id": "b6dd77a2",
   "metadata": {},
   "outputs": [],
   "source": [
    "# 3. Adım: Gömme (Embedding) Modelini Oluşturma\n",
    "# Her bir metin parçasını sayısal bir vektöre dönüştürmek için Gemini'nin embedding modelini kullanacağız.\n",
    "embeddings = GoogleGenerativeAIEmbeddings(model=\"models/embedding-001\")"
   ]
  },
  {
   "cell_type": "code",
   "execution_count": 14,
   "id": "c6f66dab",
   "metadata": {},
   "outputs": [
    {
     "name": "stdout",
     "output_type": "stream",
     "text": [
      "Vektör veritabanı başarıyla oluşturuldu ve 'vectorstore/db_faiss' klasörüne kaydedildi.\n"
     ]
    }
   ],
   "source": [
    "# 4. Adım: Vektör Veritabanı Oluşturma ve Kaydetme\n",
    "# Tüm metin parçalarını ve onların vektör karşılıklarını FAISS veritabanına kaydediyoruz.\n",
    "# Bu işlem, veri setinizin büyüklüğüne göre biraz zaman alabilir.\n",
    "db = FAISS.from_documents(docs, embeddings)\n",
    "db.save_local(DB_FAISS_PATH)\n",
    "\n",
    "print(\"Vektör veritabanı başarıyla oluşturuldu ve 'vectorstore/db_faiss' klasörüne kaydedildi.\")"
   ]
  }
 ],
 "metadata": {
  "kernelspec": {
   "display_name": "venv",
   "language": "python",
   "name": "python3"
  },
  "language_info": {
   "codemirror_mode": {
    "name": "ipython",
    "version": 3
   },
   "file_extension": ".py",
   "mimetype": "text/x-python",
   "name": "python",
   "nbconvert_exporter": "python",
   "pygments_lexer": "ipython3",
   "version": "3.13.5"
  }
 },
 "nbformat": 4,
 "nbformat_minor": 5
}
